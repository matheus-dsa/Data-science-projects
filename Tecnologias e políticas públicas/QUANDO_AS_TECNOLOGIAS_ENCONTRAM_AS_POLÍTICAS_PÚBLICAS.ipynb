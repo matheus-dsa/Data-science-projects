{
  "nbformat": 4,
  "nbformat_minor": 0,
  "metadata": {
    "colab": {
      "name": "QUANDO AS TECNOLOGIAS ENCONTRAM AS POLÍTICAS PÚBLICAS",
      "provenance": [],
      "collapsed_sections": [],
      "authorship_tag": "ABX9TyOXjOUjhO+fg0dRJEl8GiNk",
      "include_colab_link": true
    },
    "kernelspec": {
      "name": "python3",
      "display_name": "Python 3"
    }
  },
  "cells": [
    {
      "cell_type": "markdown",
      "metadata": {
        "id": "view-in-github",
        "colab_type": "text"
      },
      "source": [
        "<a href=\"https://colab.research.google.com/github/Patotricks15/Data-Science-and-Statistics/blob/master/QUANDO_AS_TECNOLOGIAS_ENCONTRAM_AS_POL%C3%8DTICAS_P%C3%9ABLICAS.ipynb\" target=\"_parent\"><img src=\"https://colab.research.google.com/assets/colab-badge.svg\" alt=\"Open In Colab\"/></a>"
      ]
    },
    {
      "cell_type": "markdown",
      "metadata": {
        "id": "R1FzyVb06Wn-",
        "colab_type": "text"
      },
      "source": [
        "# **QUANDO AS TECNOLOGIAS ENCONTRAM AS POLÍTICAS PÚBLICAS:** análise sobre a criminalidade em São Paulo a partir da plataforma *Onde fui roubado?*\n",
        "\n"
      ]
    },
    {
      "cell_type": "markdown",
      "metadata": {
        "id": "IyWtmYXnRw0S",
        "colab_type": "text"
      },
      "source": [
        "![Imagem](https://i.imgur.com/6zjFCVg.jpg)\n",
        "Mapa de concentração das ocorrências registradas pela plataforma\n"
      ]
    },
    {
      "cell_type": "markdown",
      "metadata": {
        "id": "hqmBek4NumCS",
        "colab_type": "text"
      },
      "source": [
        "#INTRODUÇÃO\n",
        "\n",
        "---\n",
        "O objetivo desse trabalho é mostrar como as tecnologias são capazes de auxiliar os governos a entender como funcionam suas estruturas sociais, e ajudar a população a se previnir, tendo uma ideia de quão perigoso pode ser um determinado local. Utilizando a plataforma *Onde fui roubado?*, analisaremos a criminalidade em São Paulo (com dados até o início de 2018).\n",
        "\n",
        "\"Onde Fui Roubado é uma plataforma colaborativa para mapeamento de ocorrências de roubos, furtos e outros tipos de crimes em cidades do Brasil, disponível na versão web, para celulares com Android e iPhone (iOS). Com o serviço, é possível visualizar a incidência de crimes nas localidades e determinar as regiões mais perigosas. Os registros são feitos anonimamente e podem ser consultados por qualquer pessoa. O app permite filtrar informações por data e local.\" [[1]](https://www.techtudo.com.br/tudo-sobre/onde-fui-roubado.html)\n",
        "\n",
        "**Os dados não são oficiais do governo, são disponibilizados pela plataforma. E suas limitações não nos permitiram fazer análises mais complexas e completas.**\n",
        "\n",
        "São Paulo registra altos índices de violência, e é dever do Estado buscar reduzí-los, e a melhor maneira do Estado propor políticas públicas é se baseando em estatísticas. O Estado de São Paulo já possui sua própria base de dados sobre violência, sendo muito útil para pesquisas e elaboração de políticas públicas.[[2]](http://www.ssp.sp.gov.br/transparenciassp/Default.aspx)\n",
        "\n",
        "Dito isso, o diferencial está na acessibilidade dos dados aos cidadãos. Pois mesmo que sejam de fácil acesso e visualização, as pessoas não têm o costume de olhá-los e analisá-los, tornando-os assim pouco úteis para fins diários. Quando os aplicativos e plataformas aparecem para auxiliar o governo, os dados podem chegar muito facilmente às mãos dos cidadãos, pois estes estão sempre conectados com o celular e/ou outros dispositivos móveis.\n"
      ]
    },
    {
      "cell_type": "markdown",
      "metadata": {
        "id": "sfacDfkxurmH",
        "colab_type": "text"
      },
      "source": [
        "#EXTRAÇÃO, LIMPEZA E ORGANIZAÇÃO DOS DADOS"
      ]
    },
    {
      "cell_type": "code",
      "metadata": {
        "id": "RV5GLw_Y6VeB",
        "colab_type": "code",
        "colab": {
          "base_uri": "https://localhost:8080/",
          "height": 50
        },
        "outputId": "ec90e1ba-9217-442c-a67b-70f20e317364"
      },
      "source": [
        "import pandas as pd\n",
        "import matplotlib.pyplot as plt\n",
        "import numpy as np\n",
        "import seaborn as sns\n",
        "%matplotlib inline\n",
        "sns.set_style();"
      ],
      "execution_count": 1,
      "outputs": [
        {
          "output_type": "stream",
          "text": [
            "/usr/local/lib/python3.6/dist-packages/statsmodels/tools/_testing.py:19: FutureWarning: pandas.util.testing is deprecated. Use the functions in the public API at pandas.testing instead.\n",
            "  import pandas.util.testing as tm\n"
          ],
          "name": "stderr"
        }
      ]
    },
    {
      "cell_type": "code",
      "metadata": {
        "id": "mxZnJJpt7mFc",
        "colab_type": "code",
        "colab": {
          "base_uri": "https://localhost:8080/",
          "height": 238
        },
        "outputId": "aa0ae5be-b11c-4fca-bdae-5b7dc837910b"
      },
      "source": [
        "df = pd.read_csv('https://www.dropbox.com/s/ghgb8xggbhgyuk3/dataset-limpo.csv?dl=1', parse_dates=['time'])\n",
        "\n",
        "df.index = pd.to_datetime(df['time'], infer_datetime_format=True)\n",
        "\n",
        "df.head(1)"
      ],
      "execution_count": 2,
      "outputs": [
        {
          "output_type": "execute_result",
          "data": {
            "text/html": [
              "<div>\n",
              "<style scoped>\n",
              "    .dataframe tbody tr th:only-of-type {\n",
              "        vertical-align: middle;\n",
              "    }\n",
              "\n",
              "    .dataframe tbody tr th {\n",
              "        vertical-align: top;\n",
              "    }\n",
              "\n",
              "    .dataframe thead th {\n",
              "        text-align: right;\n",
              "    }\n",
              "</style>\n",
              "<table border=\"1\" class=\"dataframe\">\n",
              "  <thead>\n",
              "    <tr style=\"text-align: right;\">\n",
              "      <th></th>\n",
              "      <th>id</th>\n",
              "      <th>bairro</th>\n",
              "      <th>created_at</th>\n",
              "      <th>descricao</th>\n",
              "      <th>endereco</th>\n",
              "      <th>id.1</th>\n",
              "      <th>ip_address_origin</th>\n",
              "      <th>latitude</th>\n",
              "      <th>longitude</th>\n",
              "      <th>registrou_bo</th>\n",
              "      <th>sexo</th>\n",
              "      <th>tipo_assalto_id</th>\n",
              "      <th>titulo</th>\n",
              "      <th>uri</th>\n",
              "      <th>user_id</th>\n",
              "      <th>valor_prejuizo</th>\n",
              "      <th>Bicicleta</th>\n",
              "      <th>Bolsa ou Mochila</th>\n",
              "      <th>Carteira</th>\n",
              "      <th>Cartão de Crédito</th>\n",
              "      <th>Celular</th>\n",
              "      <th>Computador</th>\n",
              "      <th>DVD</th>\n",
              "      <th>Dinheiro</th>\n",
              "      <th>Documentos</th>\n",
              "      <th>Equipamento de Som</th>\n",
              "      <th>Estepe</th>\n",
              "      <th>MP4 ou Ipod</th>\n",
              "      <th>Móveis</th>\n",
              "      <th>Notebook</th>\n",
              "      <th>Outros</th>\n",
              "      <th>Relógio</th>\n",
              "      <th>Som</th>\n",
              "      <th>Tablet</th>\n",
              "      <th>Tv</th>\n",
              "      <th>time</th>\n",
              "    </tr>\n",
              "    <tr>\n",
              "      <th>time</th>\n",
              "      <th></th>\n",
              "      <th></th>\n",
              "      <th></th>\n",
              "      <th></th>\n",
              "      <th></th>\n",
              "      <th></th>\n",
              "      <th></th>\n",
              "      <th></th>\n",
              "      <th></th>\n",
              "      <th></th>\n",
              "      <th></th>\n",
              "      <th></th>\n",
              "      <th></th>\n",
              "      <th></th>\n",
              "      <th></th>\n",
              "      <th></th>\n",
              "      <th></th>\n",
              "      <th></th>\n",
              "      <th></th>\n",
              "      <th></th>\n",
              "      <th></th>\n",
              "      <th></th>\n",
              "      <th></th>\n",
              "      <th></th>\n",
              "      <th></th>\n",
              "      <th></th>\n",
              "      <th></th>\n",
              "      <th></th>\n",
              "      <th></th>\n",
              "      <th></th>\n",
              "      <th></th>\n",
              "      <th></th>\n",
              "      <th></th>\n",
              "      <th></th>\n",
              "      <th></th>\n",
              "      <th></th>\n",
              "    </tr>\n",
              "  </thead>\n",
              "  <tbody>\n",
              "    <tr>\n",
              "      <th>2010-12-20 20:30:00</th>\n",
              "      <td>49787</td>\n",
              "      <td>Butantã</td>\n",
              "      <td>2015-06-16 23:34:01.000</td>\n",
              "      <td>5 bandidos, armas, entraram em casa e vasculha...</td>\n",
              "      <td>Avenida Trona Constanzo, 177, Butantã</td>\n",
              "      <td>49787</td>\n",
              "      <td>NaN</td>\n",
              "      <td>-23.580973</td>\n",
              "      <td>-46.719192</td>\n",
              "      <td>True</td>\n",
              "      <td>0</td>\n",
              "      <td>6</td>\n",
              "      <td>Entraram na minha casa e ficaram por 2h30</td>\n",
              "      <td>/denuncias/a71rZe-entraram-na-minha-casa-e-fic...</td>\n",
              "      <td>NaN</td>\n",
              "      <td>60.0</td>\n",
              "      <td>NaN</td>\n",
              "      <td>True</td>\n",
              "      <td>True</td>\n",
              "      <td>NaN</td>\n",
              "      <td>True</td>\n",
              "      <td>NaN</td>\n",
              "      <td>True</td>\n",
              "      <td>True</td>\n",
              "      <td>NaN</td>\n",
              "      <td>True</td>\n",
              "      <td>NaN</td>\n",
              "      <td>True</td>\n",
              "      <td>NaN</td>\n",
              "      <td>True</td>\n",
              "      <td>NaN</td>\n",
              "      <td>NaN</td>\n",
              "      <td>True</td>\n",
              "      <td>True</td>\n",
              "      <td>True</td>\n",
              "      <td>2010-12-20 20:30:00</td>\n",
              "    </tr>\n",
              "  </tbody>\n",
              "</table>\n",
              "</div>"
            ],
            "text/plain": [
              "                        id   bairro  ...    Tv                time\n",
              "time                                 ...                          \n",
              "2010-12-20 20:30:00  49787  Butantã  ...  True 2010-12-20 20:30:00\n",
              "\n",
              "[1 rows x 36 columns]"
            ]
          },
          "metadata": {
            "tags": []
          },
          "execution_count": 2
        }
      ]
    },
    {
      "cell_type": "code",
      "metadata": {
        "id": "5yF25vGj8MZA",
        "colab_type": "code",
        "colab": {
          "base_uri": "https://localhost:8080/",
          "height": 716
        },
        "outputId": "f1eaaf62-0996-4938-e628-689cceaaacc5"
      },
      "source": [
        "df.info()"
      ],
      "execution_count": 3,
      "outputs": [
        {
          "output_type": "stream",
          "text": [
            "<class 'pandas.core.frame.DataFrame'>\n",
            "DatetimeIndex: 12899 entries, 2010-12-20 20:30:00 to 2012-03-02 09:44:00\n",
            "Data columns (total 36 columns):\n",
            " #   Column              Non-Null Count  Dtype         \n",
            "---  ------              --------------  -----         \n",
            " 0   id                  12899 non-null  int64         \n",
            " 1   bairro              11196 non-null  object        \n",
            " 2   created_at          12899 non-null  object        \n",
            " 3   descricao           12898 non-null  object        \n",
            " 4   endereco            12899 non-null  object        \n",
            " 5   id.1                12899 non-null  int64         \n",
            " 6   ip_address_origin   11705 non-null  object        \n",
            " 7   latitude            12899 non-null  float64       \n",
            " 8   longitude           12899 non-null  float64       \n",
            " 9   registrou_bo        12375 non-null  object        \n",
            " 10  sexo                12899 non-null  int64         \n",
            " 11  tipo_assalto_id     12899 non-null  int64         \n",
            " 12  titulo              12899 non-null  object        \n",
            " 13  uri                 12899 non-null  object        \n",
            " 14  user_id             1166 non-null   float64       \n",
            " 15  valor_prejuizo      12899 non-null  float64       \n",
            " 16  Bicicleta           256 non-null    object        \n",
            " 17  Bolsa ou Mochila    3631 non-null   object        \n",
            " 18  Carteira            4243 non-null   object        \n",
            " 19  Cartão de Crédito   2776 non-null   object        \n",
            " 20  Celular             8377 non-null   object        \n",
            " 21  Computador          112 non-null    object        \n",
            " 22  DVD                 94 non-null     object        \n",
            " 23  Dinheiro            1730 non-null   object        \n",
            " 24  Documentos          3660 non-null   object        \n",
            " 25  Equipamento de Som  239 non-null    object        \n",
            " 26  Estepe              324 non-null    object        \n",
            " 27  MP4 ou Ipod         552 non-null    object        \n",
            " 28  Móveis              45 non-null     object        \n",
            " 29  Notebook            764 non-null    object        \n",
            " 30  Outros              5243 non-null   object        \n",
            " 31  Relógio             1350 non-null   object        \n",
            " 32  Som                 106 non-null    object        \n",
            " 33  Tablet              443 non-null    object        \n",
            " 34  Tv                  178 non-null    object        \n",
            " 35  time                12899 non-null  datetime64[ns]\n",
            "dtypes: datetime64[ns](1), float64(4), int64(4), object(27)\n",
            "memory usage: 3.6+ MB\n"
          ],
          "name": "stdout"
        }
      ]
    },
    {
      "cell_type": "code",
      "metadata": {
        "id": "X4RIfxdTFYJx",
        "colab_type": "code",
        "colab": {}
      },
      "source": [
        "def genero(i):\n",
        "    if i == 1:\n",
        "        return 'MASCULINO'\n",
        "    else:\n",
        "        return 'FEMININO'\n",
        "\n",
        "df['sexo'] = df['sexo'].apply(lambda i: genero(i))\n"
      ],
      "execution_count": 4,
      "outputs": []
    },
    {
      "cell_type": "code",
      "metadata": {
        "id": "IwAeBEs68kS-",
        "colab_type": "code",
        "colab": {
          "base_uri": "https://localhost:8080/",
          "height": 280
        },
        "outputId": "8fda84f6-2f39-4d86-85ad-6daa9ce5503d"
      },
      "source": [
        "df.describe(include='O')"
      ],
      "execution_count": 5,
      "outputs": [
        {
          "output_type": "execute_result",
          "data": {
            "text/html": [
              "<div>\n",
              "<style scoped>\n",
              "    .dataframe tbody tr th:only-of-type {\n",
              "        vertical-align: middle;\n",
              "    }\n",
              "\n",
              "    .dataframe tbody tr th {\n",
              "        vertical-align: top;\n",
              "    }\n",
              "\n",
              "    .dataframe thead th {\n",
              "        text-align: right;\n",
              "    }\n",
              "</style>\n",
              "<table border=\"1\" class=\"dataframe\">\n",
              "  <thead>\n",
              "    <tr style=\"text-align: right;\">\n",
              "      <th></th>\n",
              "      <th>bairro</th>\n",
              "      <th>created_at</th>\n",
              "      <th>descricao</th>\n",
              "      <th>endereco</th>\n",
              "      <th>ip_address_origin</th>\n",
              "      <th>registrou_bo</th>\n",
              "      <th>sexo</th>\n",
              "      <th>titulo</th>\n",
              "      <th>uri</th>\n",
              "      <th>Bicicleta</th>\n",
              "      <th>Bolsa ou Mochila</th>\n",
              "      <th>Carteira</th>\n",
              "      <th>Cartão de Crédito</th>\n",
              "      <th>Celular</th>\n",
              "      <th>Computador</th>\n",
              "      <th>DVD</th>\n",
              "      <th>Dinheiro</th>\n",
              "      <th>Documentos</th>\n",
              "      <th>Equipamento de Som</th>\n",
              "      <th>Estepe</th>\n",
              "      <th>MP4 ou Ipod</th>\n",
              "      <th>Móveis</th>\n",
              "      <th>Notebook</th>\n",
              "      <th>Outros</th>\n",
              "      <th>Relógio</th>\n",
              "      <th>Som</th>\n",
              "      <th>Tablet</th>\n",
              "      <th>Tv</th>\n",
              "    </tr>\n",
              "  </thead>\n",
              "  <tbody>\n",
              "    <tr>\n",
              "      <th>count</th>\n",
              "      <td>11196</td>\n",
              "      <td>12899</td>\n",
              "      <td>12898</td>\n",
              "      <td>12899</td>\n",
              "      <td>11705</td>\n",
              "      <td>12375</td>\n",
              "      <td>12899</td>\n",
              "      <td>12899</td>\n",
              "      <td>12899</td>\n",
              "      <td>256</td>\n",
              "      <td>3631</td>\n",
              "      <td>4243</td>\n",
              "      <td>2776</td>\n",
              "      <td>8377</td>\n",
              "      <td>112</td>\n",
              "      <td>94</td>\n",
              "      <td>1730</td>\n",
              "      <td>3660</td>\n",
              "      <td>239</td>\n",
              "      <td>324</td>\n",
              "      <td>552</td>\n",
              "      <td>45</td>\n",
              "      <td>764</td>\n",
              "      <td>5243</td>\n",
              "      <td>1350</td>\n",
              "      <td>106</td>\n",
              "      <td>443</td>\n",
              "      <td>178</td>\n",
              "    </tr>\n",
              "    <tr>\n",
              "      <th>unique</th>\n",
              "      <td>1577</td>\n",
              "      <td>12899</td>\n",
              "      <td>12898</td>\n",
              "      <td>11986</td>\n",
              "      <td>10432</td>\n",
              "      <td>2</td>\n",
              "      <td>2</td>\n",
              "      <td>10169</td>\n",
              "      <td>12899</td>\n",
              "      <td>1</td>\n",
              "      <td>1</td>\n",
              "      <td>1</td>\n",
              "      <td>1</td>\n",
              "      <td>1</td>\n",
              "      <td>1</td>\n",
              "      <td>1</td>\n",
              "      <td>1</td>\n",
              "      <td>1</td>\n",
              "      <td>1</td>\n",
              "      <td>1</td>\n",
              "      <td>1</td>\n",
              "      <td>1</td>\n",
              "      <td>1</td>\n",
              "      <td>1</td>\n",
              "      <td>1</td>\n",
              "      <td>1</td>\n",
              "      <td>1</td>\n",
              "      <td>1</td>\n",
              "    </tr>\n",
              "    <tr>\n",
              "      <th>top</th>\n",
              "      <td>São Paulo</td>\n",
              "      <td>2016-10-26 18:08:32.114</td>\n",
              "      <td>3 pessoas invadiram minha residência. Mais ced...</td>\n",
              "      <td>Carregando endereço</td>\n",
              "      <td>127.0.0.1</td>\n",
              "      <td>True</td>\n",
              "      <td>MASCULINO</td>\n",
              "      <td>Fui assaltado voltando do trabalho</td>\n",
              "      <td>/denuncias/eG4PQz-fui-assaltada-em-minha-casa</td>\n",
              "      <td>True</td>\n",
              "      <td>True</td>\n",
              "      <td>True</td>\n",
              "      <td>True</td>\n",
              "      <td>True</td>\n",
              "      <td>True</td>\n",
              "      <td>True</td>\n",
              "      <td>True</td>\n",
              "      <td>True</td>\n",
              "      <td>True</td>\n",
              "      <td>True</td>\n",
              "      <td>True</td>\n",
              "      <td>True</td>\n",
              "      <td>True</td>\n",
              "      <td>True</td>\n",
              "      <td>True</td>\n",
              "      <td>True</td>\n",
              "      <td>True</td>\n",
              "      <td>True</td>\n",
              "    </tr>\n",
              "    <tr>\n",
              "      <th>freq</th>\n",
              "      <td>630</td>\n",
              "      <td>1</td>\n",
              "      <td>1</td>\n",
              "      <td>15</td>\n",
              "      <td>94</td>\n",
              "      <td>7340</td>\n",
              "      <td>7901</td>\n",
              "      <td>154</td>\n",
              "      <td>1</td>\n",
              "      <td>256</td>\n",
              "      <td>3631</td>\n",
              "      <td>4243</td>\n",
              "      <td>2776</td>\n",
              "      <td>8377</td>\n",
              "      <td>112</td>\n",
              "      <td>94</td>\n",
              "      <td>1730</td>\n",
              "      <td>3660</td>\n",
              "      <td>239</td>\n",
              "      <td>324</td>\n",
              "      <td>552</td>\n",
              "      <td>45</td>\n",
              "      <td>764</td>\n",
              "      <td>5243</td>\n",
              "      <td>1350</td>\n",
              "      <td>106</td>\n",
              "      <td>443</td>\n",
              "      <td>178</td>\n",
              "    </tr>\n",
              "  </tbody>\n",
              "</table>\n",
              "</div>"
            ],
            "text/plain": [
              "           bairro               created_at  ... Tablet    Tv\n",
              "count       11196                    12899  ...    443   178\n",
              "unique       1577                    12899  ...      1     1\n",
              "top     São Paulo  2016-10-26 18:08:32.114  ...   True  True\n",
              "freq          630                        1  ...    443   178\n",
              "\n",
              "[4 rows x 28 columns]"
            ]
          },
          "metadata": {
            "tags": []
          },
          "execution_count": 5
        }
      ]
    },
    {
      "cell_type": "code",
      "metadata": {
        "id": "s5lli6_WsOas",
        "colab_type": "code",
        "colab": {
          "base_uri": "https://localhost:8080/",
          "height": 662
        },
        "outputId": "9b2af0fb-e590-42f4-c2b8-65a9d1d7f157"
      },
      "source": [
        "df_clean = df.copy()\n",
        "\n",
        "bool_columns = ['Bicicleta', 'Bolsa ou Mochila', 'Carteira','Cartão de Crédito',\n",
        "'Celular', 'Computador','DVD', 'Dinheiro' , 'Documentos','Equipamento de Som','Estepe', 'MP4 ou Ipod', 'Móveis',\n",
        "'Notebook','Outros', 'Relógio', 'Som', 'Tablet', 'Tv', 'registrou_bo']\n",
        "\n",
        "df_clean[bool_columns] = df_clean[bool_columns].fillna(False)\n",
        "df_clean[bool_columns] = df_clean[bool_columns].astype(str)\n",
        "\n",
        "df_clean.head()"
      ],
      "execution_count": 6,
      "outputs": [
        {
          "output_type": "execute_result",
          "data": {
            "text/html": [
              "<div>\n",
              "<style scoped>\n",
              "    .dataframe tbody tr th:only-of-type {\n",
              "        vertical-align: middle;\n",
              "    }\n",
              "\n",
              "    .dataframe tbody tr th {\n",
              "        vertical-align: top;\n",
              "    }\n",
              "\n",
              "    .dataframe thead th {\n",
              "        text-align: right;\n",
              "    }\n",
              "</style>\n",
              "<table border=\"1\" class=\"dataframe\">\n",
              "  <thead>\n",
              "    <tr style=\"text-align: right;\">\n",
              "      <th></th>\n",
              "      <th>id</th>\n",
              "      <th>bairro</th>\n",
              "      <th>created_at</th>\n",
              "      <th>descricao</th>\n",
              "      <th>endereco</th>\n",
              "      <th>id.1</th>\n",
              "      <th>ip_address_origin</th>\n",
              "      <th>latitude</th>\n",
              "      <th>longitude</th>\n",
              "      <th>registrou_bo</th>\n",
              "      <th>sexo</th>\n",
              "      <th>tipo_assalto_id</th>\n",
              "      <th>titulo</th>\n",
              "      <th>uri</th>\n",
              "      <th>user_id</th>\n",
              "      <th>valor_prejuizo</th>\n",
              "      <th>Bicicleta</th>\n",
              "      <th>Bolsa ou Mochila</th>\n",
              "      <th>Carteira</th>\n",
              "      <th>Cartão de Crédito</th>\n",
              "      <th>Celular</th>\n",
              "      <th>Computador</th>\n",
              "      <th>DVD</th>\n",
              "      <th>Dinheiro</th>\n",
              "      <th>Documentos</th>\n",
              "      <th>Equipamento de Som</th>\n",
              "      <th>Estepe</th>\n",
              "      <th>MP4 ou Ipod</th>\n",
              "      <th>Móveis</th>\n",
              "      <th>Notebook</th>\n",
              "      <th>Outros</th>\n",
              "      <th>Relógio</th>\n",
              "      <th>Som</th>\n",
              "      <th>Tablet</th>\n",
              "      <th>Tv</th>\n",
              "      <th>time</th>\n",
              "    </tr>\n",
              "    <tr>\n",
              "      <th>time</th>\n",
              "      <th></th>\n",
              "      <th></th>\n",
              "      <th></th>\n",
              "      <th></th>\n",
              "      <th></th>\n",
              "      <th></th>\n",
              "      <th></th>\n",
              "      <th></th>\n",
              "      <th></th>\n",
              "      <th></th>\n",
              "      <th></th>\n",
              "      <th></th>\n",
              "      <th></th>\n",
              "      <th></th>\n",
              "      <th></th>\n",
              "      <th></th>\n",
              "      <th></th>\n",
              "      <th></th>\n",
              "      <th></th>\n",
              "      <th></th>\n",
              "      <th></th>\n",
              "      <th></th>\n",
              "      <th></th>\n",
              "      <th></th>\n",
              "      <th></th>\n",
              "      <th></th>\n",
              "      <th></th>\n",
              "      <th></th>\n",
              "      <th></th>\n",
              "      <th></th>\n",
              "      <th></th>\n",
              "      <th></th>\n",
              "      <th></th>\n",
              "      <th></th>\n",
              "      <th></th>\n",
              "      <th></th>\n",
              "    </tr>\n",
              "  </thead>\n",
              "  <tbody>\n",
              "    <tr>\n",
              "      <th>2010-12-20 20:30:00</th>\n",
              "      <td>49787</td>\n",
              "      <td>Butantã</td>\n",
              "      <td>2015-06-16 23:34:01.000</td>\n",
              "      <td>5 bandidos, armas, entraram em casa e vasculha...</td>\n",
              "      <td>Avenida Trona Constanzo, 177, Butantã</td>\n",
              "      <td>49787</td>\n",
              "      <td>NaN</td>\n",
              "      <td>-23.580973</td>\n",
              "      <td>-46.719192</td>\n",
              "      <td>True</td>\n",
              "      <td>FEMININO</td>\n",
              "      <td>6</td>\n",
              "      <td>Entraram na minha casa e ficaram por 2h30</td>\n",
              "      <td>/denuncias/a71rZe-entraram-na-minha-casa-e-fic...</td>\n",
              "      <td>NaN</td>\n",
              "      <td>60.0</td>\n",
              "      <td>False</td>\n",
              "      <td>True</td>\n",
              "      <td>True</td>\n",
              "      <td>False</td>\n",
              "      <td>True</td>\n",
              "      <td>False</td>\n",
              "      <td>True</td>\n",
              "      <td>True</td>\n",
              "      <td>False</td>\n",
              "      <td>True</td>\n",
              "      <td>False</td>\n",
              "      <td>True</td>\n",
              "      <td>False</td>\n",
              "      <td>True</td>\n",
              "      <td>False</td>\n",
              "      <td>False</td>\n",
              "      <td>True</td>\n",
              "      <td>True</td>\n",
              "      <td>True</td>\n",
              "      <td>2010-12-20 20:30:00</td>\n",
              "    </tr>\n",
              "    <tr>\n",
              "      <th>2012-01-11 14:00:00</th>\n",
              "      <td>10679</td>\n",
              "      <td>Itaquera</td>\n",
              "      <td>2013-09-11 18:26:31.819</td>\n",
              "      <td>Meu caso foi para o Pequenas Causas, ganhamos ...</td>\n",
              "      <td>Avenida José Pinheiro Borges, 450-876 - Itaque...</td>\n",
              "      <td>10679</td>\n",
              "      <td>187.11.1.51</td>\n",
              "      <td>-23.540105</td>\n",
              "      <td>-46.462872</td>\n",
              "      <td>True</td>\n",
              "      <td>MASCULINO</td>\n",
              "      <td>1</td>\n",
              "      <td>Rádio do Carro Furtado</td>\n",
              "      <td>/denuncias/z6nRrz-radio-do-carro-furtado</td>\n",
              "      <td>NaN</td>\n",
              "      <td>0.0</td>\n",
              "      <td>False</td>\n",
              "      <td>False</td>\n",
              "      <td>False</td>\n",
              "      <td>False</td>\n",
              "      <td>False</td>\n",
              "      <td>False</td>\n",
              "      <td>False</td>\n",
              "      <td>False</td>\n",
              "      <td>False</td>\n",
              "      <td>False</td>\n",
              "      <td>False</td>\n",
              "      <td>False</td>\n",
              "      <td>False</td>\n",
              "      <td>False</td>\n",
              "      <td>True</td>\n",
              "      <td>False</td>\n",
              "      <td>False</td>\n",
              "      <td>False</td>\n",
              "      <td>False</td>\n",
              "      <td>2012-01-11 14:00:00</td>\n",
              "    </tr>\n",
              "    <tr>\n",
              "      <th>2012-01-11 14:00:00</th>\n",
              "      <td>10682</td>\n",
              "      <td>Itaquera</td>\n",
              "      <td>2013-09-11 18:42:07.858</td>\n",
              "      <td>Meu caso foi para o Pequenas Causas, ganhamos ...</td>\n",
              "      <td>Rua Corínthians - Itaquera - Shopping Metrô It...</td>\n",
              "      <td>10682</td>\n",
              "      <td>189.19.160.82</td>\n",
              "      <td>-23.541765</td>\n",
              "      <td>-46.469562</td>\n",
              "      <td>True</td>\n",
              "      <td>MASCULINO</td>\n",
              "      <td>1</td>\n",
              "      <td>Rádio do carro furtado no estacionamento PAGO ...</td>\n",
              "      <td>/denuncias/V9lNKa-radio-do-carro-furtado-no-es...</td>\n",
              "      <td>NaN</td>\n",
              "      <td>300.0</td>\n",
              "      <td>False</td>\n",
              "      <td>False</td>\n",
              "      <td>False</td>\n",
              "      <td>False</td>\n",
              "      <td>False</td>\n",
              "      <td>False</td>\n",
              "      <td>False</td>\n",
              "      <td>False</td>\n",
              "      <td>False</td>\n",
              "      <td>False</td>\n",
              "      <td>False</td>\n",
              "      <td>False</td>\n",
              "      <td>False</td>\n",
              "      <td>False</td>\n",
              "      <td>True</td>\n",
              "      <td>False</td>\n",
              "      <td>False</td>\n",
              "      <td>False</td>\n",
              "      <td>False</td>\n",
              "      <td>2012-01-11 14:00:00</td>\n",
              "    </tr>\n",
              "    <tr>\n",
              "      <th>2012-01-11 18:20:00</th>\n",
              "      <td>6166</td>\n",
              "      <td>Morumbi</td>\n",
              "      <td>2013-08-20 11:56:52.717</td>\n",
              "      <td>Estava parada no semáforo, o bandido veio e es...</td>\n",
              "      <td>Rua Pasquale Gallupi, 347 - Morumbi, São Paulo...</td>\n",
              "      <td>6166</td>\n",
              "      <td>199.67.140.46</td>\n",
              "      <td>-23.611693</td>\n",
              "      <td>-46.725935</td>\n",
              "      <td>True</td>\n",
              "      <td>FEMININO</td>\n",
              "      <td>5</td>\n",
              "      <td>Quebraram a janela do meu carro</td>\n",
              "      <td>/denuncias/a4NB1e-quebraram-a-janela-do-meu-carro</td>\n",
              "      <td>NaN</td>\n",
              "      <td>2500.0</td>\n",
              "      <td>False</td>\n",
              "      <td>True</td>\n",
              "      <td>True</td>\n",
              "      <td>True</td>\n",
              "      <td>True</td>\n",
              "      <td>False</td>\n",
              "      <td>False</td>\n",
              "      <td>False</td>\n",
              "      <td>True</td>\n",
              "      <td>False</td>\n",
              "      <td>False</td>\n",
              "      <td>False</td>\n",
              "      <td>False</td>\n",
              "      <td>False</td>\n",
              "      <td>False</td>\n",
              "      <td>False</td>\n",
              "      <td>False</td>\n",
              "      <td>False</td>\n",
              "      <td>False</td>\n",
              "      <td>2012-01-11 18:20:00</td>\n",
              "    </tr>\n",
              "    <tr>\n",
              "      <th>2012-01-11 08:15:00</th>\n",
              "      <td>6521</td>\n",
              "      <td>Alto de Pinheiros</td>\n",
              "      <td>2013-08-20 17:41:21.569</td>\n",
              "      <td>Arrombaram o porta malas do meu carro e levara...</td>\n",
              "      <td>Avenida Professor Fonseca Rodrigues, 1655 - Al...</td>\n",
              "      <td>6521</td>\n",
              "      <td>187.92.158.154</td>\n",
              "      <td>-23.544564</td>\n",
              "      <td>-46.721567</td>\n",
              "      <td>True</td>\n",
              "      <td>MASCULINO</td>\n",
              "      <td>1</td>\n",
              "      <td>Arrombaram meu carro que estava no estacioname...</td>\n",
              "      <td>/denuncias/zD1lJa-arrombaram-meu-carro-que-est...</td>\n",
              "      <td>NaN</td>\n",
              "      <td>9999.0</td>\n",
              "      <td>False</td>\n",
              "      <td>True</td>\n",
              "      <td>True</td>\n",
              "      <td>True</td>\n",
              "      <td>False</td>\n",
              "      <td>False</td>\n",
              "      <td>False</td>\n",
              "      <td>False</td>\n",
              "      <td>True</td>\n",
              "      <td>False</td>\n",
              "      <td>False</td>\n",
              "      <td>False</td>\n",
              "      <td>False</td>\n",
              "      <td>True</td>\n",
              "      <td>True</td>\n",
              "      <td>False</td>\n",
              "      <td>False</td>\n",
              "      <td>False</td>\n",
              "      <td>False</td>\n",
              "      <td>2012-01-11 08:15:00</td>\n",
              "    </tr>\n",
              "  </tbody>\n",
              "</table>\n",
              "</div>"
            ],
            "text/plain": [
              "                        id             bairro  ...     Tv                time\n",
              "time                                           ...                           \n",
              "2010-12-20 20:30:00  49787            Butantã  ...   True 2010-12-20 20:30:00\n",
              "2012-01-11 14:00:00  10679           Itaquera  ...  False 2012-01-11 14:00:00\n",
              "2012-01-11 14:00:00  10682           Itaquera  ...  False 2012-01-11 14:00:00\n",
              "2012-01-11 18:20:00   6166            Morumbi  ...  False 2012-01-11 18:20:00\n",
              "2012-01-11 08:15:00   6521  Alto de Pinheiros  ...  False 2012-01-11 08:15:00\n",
              "\n",
              "[5 rows x 36 columns]"
            ]
          },
          "metadata": {
            "tags": []
          },
          "execution_count": 6
        }
      ]
    },
    {
      "cell_type": "code",
      "metadata": {
        "id": "qPYxOaA1tmmF",
        "colab_type": "code",
        "colab": {
          "base_uri": "https://localhost:8080/",
          "height": 662
        },
        "outputId": "6abecf95-18a4-44b6-c947-9820b347bca7"
      },
      "source": [
        "#Verificar e excluir dados ausentes\n",
        "(df_clean.isnull().sum() / df_clean.shape[0]).sort_values(ascending=False)\n",
        "df_clean.dropna(subset=['bairro'], axis=0, inplace=True)\n",
        "df.head()"
      ],
      "execution_count": 7,
      "outputs": [
        {
          "output_type": "execute_result",
          "data": {
            "text/html": [
              "<div>\n",
              "<style scoped>\n",
              "    .dataframe tbody tr th:only-of-type {\n",
              "        vertical-align: middle;\n",
              "    }\n",
              "\n",
              "    .dataframe tbody tr th {\n",
              "        vertical-align: top;\n",
              "    }\n",
              "\n",
              "    .dataframe thead th {\n",
              "        text-align: right;\n",
              "    }\n",
              "</style>\n",
              "<table border=\"1\" class=\"dataframe\">\n",
              "  <thead>\n",
              "    <tr style=\"text-align: right;\">\n",
              "      <th></th>\n",
              "      <th>id</th>\n",
              "      <th>bairro</th>\n",
              "      <th>created_at</th>\n",
              "      <th>descricao</th>\n",
              "      <th>endereco</th>\n",
              "      <th>id.1</th>\n",
              "      <th>ip_address_origin</th>\n",
              "      <th>latitude</th>\n",
              "      <th>longitude</th>\n",
              "      <th>registrou_bo</th>\n",
              "      <th>sexo</th>\n",
              "      <th>tipo_assalto_id</th>\n",
              "      <th>titulo</th>\n",
              "      <th>uri</th>\n",
              "      <th>user_id</th>\n",
              "      <th>valor_prejuizo</th>\n",
              "      <th>Bicicleta</th>\n",
              "      <th>Bolsa ou Mochila</th>\n",
              "      <th>Carteira</th>\n",
              "      <th>Cartão de Crédito</th>\n",
              "      <th>Celular</th>\n",
              "      <th>Computador</th>\n",
              "      <th>DVD</th>\n",
              "      <th>Dinheiro</th>\n",
              "      <th>Documentos</th>\n",
              "      <th>Equipamento de Som</th>\n",
              "      <th>Estepe</th>\n",
              "      <th>MP4 ou Ipod</th>\n",
              "      <th>Móveis</th>\n",
              "      <th>Notebook</th>\n",
              "      <th>Outros</th>\n",
              "      <th>Relógio</th>\n",
              "      <th>Som</th>\n",
              "      <th>Tablet</th>\n",
              "      <th>Tv</th>\n",
              "      <th>time</th>\n",
              "    </tr>\n",
              "    <tr>\n",
              "      <th>time</th>\n",
              "      <th></th>\n",
              "      <th></th>\n",
              "      <th></th>\n",
              "      <th></th>\n",
              "      <th></th>\n",
              "      <th></th>\n",
              "      <th></th>\n",
              "      <th></th>\n",
              "      <th></th>\n",
              "      <th></th>\n",
              "      <th></th>\n",
              "      <th></th>\n",
              "      <th></th>\n",
              "      <th></th>\n",
              "      <th></th>\n",
              "      <th></th>\n",
              "      <th></th>\n",
              "      <th></th>\n",
              "      <th></th>\n",
              "      <th></th>\n",
              "      <th></th>\n",
              "      <th></th>\n",
              "      <th></th>\n",
              "      <th></th>\n",
              "      <th></th>\n",
              "      <th></th>\n",
              "      <th></th>\n",
              "      <th></th>\n",
              "      <th></th>\n",
              "      <th></th>\n",
              "      <th></th>\n",
              "      <th></th>\n",
              "      <th></th>\n",
              "      <th></th>\n",
              "      <th></th>\n",
              "      <th></th>\n",
              "    </tr>\n",
              "  </thead>\n",
              "  <tbody>\n",
              "    <tr>\n",
              "      <th>2010-12-20 20:30:00</th>\n",
              "      <td>49787</td>\n",
              "      <td>Butantã</td>\n",
              "      <td>2015-06-16 23:34:01.000</td>\n",
              "      <td>5 bandidos, armas, entraram em casa e vasculha...</td>\n",
              "      <td>Avenida Trona Constanzo, 177, Butantã</td>\n",
              "      <td>49787</td>\n",
              "      <td>NaN</td>\n",
              "      <td>-23.580973</td>\n",
              "      <td>-46.719192</td>\n",
              "      <td>True</td>\n",
              "      <td>FEMININO</td>\n",
              "      <td>6</td>\n",
              "      <td>Entraram na minha casa e ficaram por 2h30</td>\n",
              "      <td>/denuncias/a71rZe-entraram-na-minha-casa-e-fic...</td>\n",
              "      <td>NaN</td>\n",
              "      <td>60.0</td>\n",
              "      <td>NaN</td>\n",
              "      <td>True</td>\n",
              "      <td>True</td>\n",
              "      <td>NaN</td>\n",
              "      <td>True</td>\n",
              "      <td>NaN</td>\n",
              "      <td>True</td>\n",
              "      <td>True</td>\n",
              "      <td>NaN</td>\n",
              "      <td>True</td>\n",
              "      <td>NaN</td>\n",
              "      <td>True</td>\n",
              "      <td>NaN</td>\n",
              "      <td>True</td>\n",
              "      <td>NaN</td>\n",
              "      <td>NaN</td>\n",
              "      <td>True</td>\n",
              "      <td>True</td>\n",
              "      <td>True</td>\n",
              "      <td>2010-12-20 20:30:00</td>\n",
              "    </tr>\n",
              "    <tr>\n",
              "      <th>2012-01-11 14:00:00</th>\n",
              "      <td>10679</td>\n",
              "      <td>Itaquera</td>\n",
              "      <td>2013-09-11 18:26:31.819</td>\n",
              "      <td>Meu caso foi para o Pequenas Causas, ganhamos ...</td>\n",
              "      <td>Avenida José Pinheiro Borges, 450-876 - Itaque...</td>\n",
              "      <td>10679</td>\n",
              "      <td>187.11.1.51</td>\n",
              "      <td>-23.540105</td>\n",
              "      <td>-46.462872</td>\n",
              "      <td>True</td>\n",
              "      <td>MASCULINO</td>\n",
              "      <td>1</td>\n",
              "      <td>Rádio do Carro Furtado</td>\n",
              "      <td>/denuncias/z6nRrz-radio-do-carro-furtado</td>\n",
              "      <td>NaN</td>\n",
              "      <td>0.0</td>\n",
              "      <td>NaN</td>\n",
              "      <td>NaN</td>\n",
              "      <td>NaN</td>\n",
              "      <td>NaN</td>\n",
              "      <td>NaN</td>\n",
              "      <td>NaN</td>\n",
              "      <td>NaN</td>\n",
              "      <td>NaN</td>\n",
              "      <td>NaN</td>\n",
              "      <td>NaN</td>\n",
              "      <td>NaN</td>\n",
              "      <td>NaN</td>\n",
              "      <td>NaN</td>\n",
              "      <td>NaN</td>\n",
              "      <td>True</td>\n",
              "      <td>NaN</td>\n",
              "      <td>NaN</td>\n",
              "      <td>NaN</td>\n",
              "      <td>NaN</td>\n",
              "      <td>2012-01-11 14:00:00</td>\n",
              "    </tr>\n",
              "    <tr>\n",
              "      <th>2012-01-11 14:00:00</th>\n",
              "      <td>10682</td>\n",
              "      <td>Itaquera</td>\n",
              "      <td>2013-09-11 18:42:07.858</td>\n",
              "      <td>Meu caso foi para o Pequenas Causas, ganhamos ...</td>\n",
              "      <td>Rua Corínthians - Itaquera - Shopping Metrô It...</td>\n",
              "      <td>10682</td>\n",
              "      <td>189.19.160.82</td>\n",
              "      <td>-23.541765</td>\n",
              "      <td>-46.469562</td>\n",
              "      <td>True</td>\n",
              "      <td>MASCULINO</td>\n",
              "      <td>1</td>\n",
              "      <td>Rádio do carro furtado no estacionamento PAGO ...</td>\n",
              "      <td>/denuncias/V9lNKa-radio-do-carro-furtado-no-es...</td>\n",
              "      <td>NaN</td>\n",
              "      <td>300.0</td>\n",
              "      <td>NaN</td>\n",
              "      <td>NaN</td>\n",
              "      <td>NaN</td>\n",
              "      <td>NaN</td>\n",
              "      <td>NaN</td>\n",
              "      <td>NaN</td>\n",
              "      <td>NaN</td>\n",
              "      <td>NaN</td>\n",
              "      <td>NaN</td>\n",
              "      <td>NaN</td>\n",
              "      <td>NaN</td>\n",
              "      <td>NaN</td>\n",
              "      <td>NaN</td>\n",
              "      <td>NaN</td>\n",
              "      <td>True</td>\n",
              "      <td>NaN</td>\n",
              "      <td>NaN</td>\n",
              "      <td>NaN</td>\n",
              "      <td>NaN</td>\n",
              "      <td>2012-01-11 14:00:00</td>\n",
              "    </tr>\n",
              "    <tr>\n",
              "      <th>2012-01-11 18:20:00</th>\n",
              "      <td>6166</td>\n",
              "      <td>Morumbi</td>\n",
              "      <td>2013-08-20 11:56:52.717</td>\n",
              "      <td>Estava parada no semáforo, o bandido veio e es...</td>\n",
              "      <td>Rua Pasquale Gallupi, 347 - Morumbi, São Paulo...</td>\n",
              "      <td>6166</td>\n",
              "      <td>199.67.140.46</td>\n",
              "      <td>-23.611693</td>\n",
              "      <td>-46.725935</td>\n",
              "      <td>True</td>\n",
              "      <td>FEMININO</td>\n",
              "      <td>5</td>\n",
              "      <td>Quebraram a janela do meu carro</td>\n",
              "      <td>/denuncias/a4NB1e-quebraram-a-janela-do-meu-carro</td>\n",
              "      <td>NaN</td>\n",
              "      <td>2500.0</td>\n",
              "      <td>NaN</td>\n",
              "      <td>True</td>\n",
              "      <td>True</td>\n",
              "      <td>True</td>\n",
              "      <td>True</td>\n",
              "      <td>NaN</td>\n",
              "      <td>NaN</td>\n",
              "      <td>NaN</td>\n",
              "      <td>True</td>\n",
              "      <td>NaN</td>\n",
              "      <td>NaN</td>\n",
              "      <td>NaN</td>\n",
              "      <td>NaN</td>\n",
              "      <td>NaN</td>\n",
              "      <td>NaN</td>\n",
              "      <td>NaN</td>\n",
              "      <td>NaN</td>\n",
              "      <td>NaN</td>\n",
              "      <td>NaN</td>\n",
              "      <td>2012-01-11 18:20:00</td>\n",
              "    </tr>\n",
              "    <tr>\n",
              "      <th>2012-01-11 08:15:00</th>\n",
              "      <td>6521</td>\n",
              "      <td>Alto de Pinheiros</td>\n",
              "      <td>2013-08-20 17:41:21.569</td>\n",
              "      <td>Arrombaram o porta malas do meu carro e levara...</td>\n",
              "      <td>Avenida Professor Fonseca Rodrigues, 1655 - Al...</td>\n",
              "      <td>6521</td>\n",
              "      <td>187.92.158.154</td>\n",
              "      <td>-23.544564</td>\n",
              "      <td>-46.721567</td>\n",
              "      <td>True</td>\n",
              "      <td>MASCULINO</td>\n",
              "      <td>1</td>\n",
              "      <td>Arrombaram meu carro que estava no estacioname...</td>\n",
              "      <td>/denuncias/zD1lJa-arrombaram-meu-carro-que-est...</td>\n",
              "      <td>NaN</td>\n",
              "      <td>9999.0</td>\n",
              "      <td>NaN</td>\n",
              "      <td>True</td>\n",
              "      <td>True</td>\n",
              "      <td>True</td>\n",
              "      <td>NaN</td>\n",
              "      <td>NaN</td>\n",
              "      <td>NaN</td>\n",
              "      <td>NaN</td>\n",
              "      <td>True</td>\n",
              "      <td>NaN</td>\n",
              "      <td>NaN</td>\n",
              "      <td>NaN</td>\n",
              "      <td>NaN</td>\n",
              "      <td>True</td>\n",
              "      <td>True</td>\n",
              "      <td>NaN</td>\n",
              "      <td>NaN</td>\n",
              "      <td>NaN</td>\n",
              "      <td>NaN</td>\n",
              "      <td>2012-01-11 08:15:00</td>\n",
              "    </tr>\n",
              "  </tbody>\n",
              "</table>\n",
              "</div>"
            ],
            "text/plain": [
              "                        id             bairro  ...    Tv                time\n",
              "time                                           ...                          \n",
              "2010-12-20 20:30:00  49787            Butantã  ...  True 2010-12-20 20:30:00\n",
              "2012-01-11 14:00:00  10679           Itaquera  ...   NaN 2012-01-11 14:00:00\n",
              "2012-01-11 14:00:00  10682           Itaquera  ...   NaN 2012-01-11 14:00:00\n",
              "2012-01-11 18:20:00   6166            Morumbi  ...   NaN 2012-01-11 18:20:00\n",
              "2012-01-11 08:15:00   6521  Alto de Pinheiros  ...   NaN 2012-01-11 08:15:00\n",
              "\n",
              "[5 rows x 36 columns]"
            ]
          },
          "metadata": {
            "tags": []
          },
          "execution_count": 7
        }
      ]
    },
    {
      "cell_type": "markdown",
      "metadata": {
        "id": "jyXhaMIVvaBG",
        "colab_type": "text"
      },
      "source": [
        "#ANÁLISE EXPLORATÓRIA\n",
        "\n",
        "---\n",
        "\n",
        "Depois de limpar os dados, iremos explorá-los. A fim de auxiliar governo e cidadãos, uma plataforma deve ser capaz de fornecer a maior quantidade de dados que puder, e são esses dados que iremos analisar.\n",
        "\n",
        "Para que possamos nos guiar, a análise será dividida em:\n",
        "\n",
        "*   **Quem** foi roubado?\n",
        "*   **O que** foi roubado?\n",
        "*   **Onde** foi roubado?\n",
        "*   **Quando** foi roubado?"
      ]
    },
    {
      "cell_type": "markdown",
      "metadata": {
        "id": "rmypNeNv3jKq",
        "colab_type": "text"
      },
      "source": [
        "##QUEM FOI ROUBADO?\n",
        "\n",
        "---\n",
        "Começar a análise pela pergunta \"quem?\" nos dá uma base social sobre o problema estudado. É necessário entar ciente dos envolvidos nesse problema para que seja possível contorná-lo.\n"
      ]
    },
    {
      "cell_type": "markdown",
      "metadata": {
        "id": "lyxnN3NVau1W",
        "colab_type": "text"
      },
      "source": [
        "###Pessoas por gênero"
      ]
    },
    {
      "cell_type": "markdown",
      "metadata": {
        "id": "1Wc5lvkyl3py",
        "colab_type": "text"
      },
      "source": [
        "####Estatística descritiva"
      ]
    },
    {
      "cell_type": "code",
      "metadata": {
        "id": "QfnjVAULffz5",
        "colab_type": "code",
        "colab": {}
      },
      "source": [
        "sexo = df['sexo'].value_counts()\n",
        "homens = sexo['MASCULINO']\n",
        "mulheres = sexo['FEMININO']\n",
        "masc_porc = sexo['MASCULINO']/(sexo['MASCULINO'] + sexo['FEMININO'])*100\n",
        "femi_porc = sexo['FEMININO']/(sexo['MASCULINO'] + sexo['FEMININO'])*100"
      ],
      "execution_count": 8,
      "outputs": []
    },
    {
      "cell_type": "markdown",
      "metadata": {
        "id": "7_ZgGVOOri_x",
        "colab_type": "text"
      },
      "source": [
        "Com os dados disponíveis, conseguimos fazer uma análise por gênero, vejam a seguir:\n",
        "\n",
        "Homens: **7901 (61,25%)**\n",
        "\n",
        "Mulheres: **4998 (38,75%)**\n",
        "\n",
        "```\n",
        "print('Homens: {} ({:.2f}%)'.format(homens,masc_porc))\n",
        "print('Mulheres: {} ({:.2f}%)'.format(mulheres,femi_porc))\n",
        "```\n",
        "\n"
      ]
    },
    {
      "cell_type": "markdown",
      "metadata": {
        "id": "8vzfbPvLsach",
        "colab_type": "text"
      },
      "source": [
        "A análise fica melhor quando **mostramos** os dados:"
      ]
    },
    {
      "cell_type": "markdown",
      "metadata": {
        "id": "aT05VIlyl9lo",
        "colab_type": "text"
      },
      "source": [
        "####Visualização"
      ]
    },
    {
      "cell_type": "code",
      "metadata": {
        "id": "GU3SPbXAvec-",
        "colab_type": "code",
        "colab": {
          "base_uri": "https://localhost:8080/",
          "height": 435
        },
        "outputId": "8699d0f0-d412-482d-e61c-9eb1d35049d7"
      },
      "source": [
        "cor_genero = ['#6495ED','#FF69B4']\n",
        "fig = plt.figure(figsize=(7,7))\n",
        "sexo = df['sexo'].value_counts()\n",
        "sexo_num = [sexo[0],sexo[1]]\n",
        "plt.pie(sexo_num, labels=['MASCULINO','FEMININO'],colors=cor_genero)\n",
        "plt.title('Mortos por gênero',fontsize=21);"
      ],
      "execution_count": 9,
      "outputs": [
        {
          "output_type": "display_data",
          "data": {
            "image/png": "[encoded data removed]",
            "text/plain": [
              "<Figure size 504x504 with 1 Axes>"
            ]
          },
          "metadata": {
            "tags": []
          }
        }
      ]
    },
    {
      "cell_type": "markdown",
      "metadata": {
        "id": "7zCBbo-OaY8c",
        "colab_type": "text"
      },
      "source": [
        "###Pessoas que registraram boletim de ocorrência"
      ]
    },
    {
      "cell_type": "markdown",
      "metadata": {
        "id": "0aZFgRfBlgJZ",
        "colab_type": "text"
      },
      "source": [
        "####Estatística descritiva"
      ]
    },
    {
      "cell_type": "markdown",
      "metadata": {
        "id": "HbO3_wFvlsCO",
        "colab_type": "text"
      },
      "source": [
        "####Visualização"
      ]
    },
    {
      "cell_type": "markdown",
      "metadata": {
        "id": "Y2w2eMVJiLi4",
        "colab_type": "text"
      },
      "source": [
        ""
      ]
    },
    {
      "cell_type": "code",
      "metadata": {
        "id": "-QqbEn7rgg22",
        "colab_type": "code",
        "colab": {}
      },
      "source": [
        "bo = df['registrou_bo'].value_counts()\n",
        "regist = bo[True]\n",
        "naoregist = bo[False]\n",
        "regist_porc = regist/(regist + naoregist)*100\n",
        "naoregist_porc = naoregist/(regist + naoregist)*100"
      ],
      "execution_count": 10,
      "outputs": []
    },
    {
      "cell_type": "markdown",
      "metadata": {
        "id": "6mmc1awWthp0",
        "colab_type": "text"
      },
      "source": [
        "Podemos, também, classificar os usuários que registraram Boletim de Ocorrência e os que não registraram:\n",
        "\n",
        "Registraram BO: 7340 **(59,31%)**\n",
        "\n",
        "Não registraram BO: 5035 **(40,69%)**\n",
        "\n",
        "```\n",
        "print('Registraram BO: {} ({:.2f}%)'.format(regist,regist_porc))\n",
        "print('Não registraram BO: {} ({:.2f}%)'.format(naoregist,naoregist_porc))\n",
        "\n"
      ]
    },
    {
      "cell_type": "code",
      "metadata": {
        "id": "vAKq3XPhecTl",
        "colab_type": "code",
        "colab": {
          "base_uri": "https://localhost:8080/",
          "height": 359
        },
        "outputId": "1a076bdf-42e3-40a4-c823-277fbd7ce16b"
      },
      "source": [
        "fig = plt.figure(figsize=(10,5))\n",
        "sns.countplot(x='registrou_bo', data=df)\n",
        "plt.xlabel('Registrou BO?',fontsize=13)\n",
        "plt.ylabel('')\n",
        "plt.yticks(fontsize=11)\n",
        "plt.title('Pessoas que registraram Boletim de Ocorrência',fontsize=19);"
      ],
      "execution_count": 11,
      "outputs": [
        {
          "output_type": "display_data",
          "data": {
            "image/png": "[encoded data removed]",
            "text/plain": [
              "<Figure size 720x360 with 1 Axes>"
            ]
          },
          "metadata": {
            "tags": [],
            "needs_background": "light"
          }
        }
      ]
    },
    {
      "cell_type": "markdown",
      "metadata": {
        "id": "C165NHwtYg7R",
        "colab_type": "text"
      },
      "source": [
        "Homens que registraram BO: **4487**\n",
        "\n",
        "\n",
        "```\n",
        "df[(df['sexo'] == 'MASCULINO')&(df['registrou_bo'] == True)].shape[0]\n",
        "```\n",
        "\n",
        "\n",
        "Homens que não registraram BO: **3087**\n",
        "\n",
        "\n",
        "```\n",
        "df[(df['sexo'] == 'MASCULINO')&(df['registrou_bo'] == False)].shape[0]\n",
        "```\n",
        "\n",
        "\n",
        "Mulheres que registraram BO: **2853**\n",
        "\n",
        "\n",
        "```\n",
        "df[(df['sexo']== 'FEMININO')&(df['registrou_bo'] == True)].shape[0]\n",
        "```\n",
        "\n",
        "\n",
        "Mulheres que registraram BO: **1943**\n",
        "\n",
        "\n",
        "```\n",
        "df[(df['sexo']== 'FEMININO')&(df['registrou_bo'] == False)].shape[0]\n",
        "```\n",
        "\n"
      ]
    },
    {
      "cell_type": "code",
      "metadata": {
        "id": "K3v3WC2maLyZ",
        "colab_type": "code",
        "colab": {
          "base_uri": "https://localhost:8080/",
          "height": 450
        },
        "outputId": "17e2560f-abea-449c-b2bc-6fa4fe417f3c"
      },
      "source": [
        "fig = plt.figure(figsize=(11,7))\n",
        "sns.countplot(x='sexo',hue='registrou_bo',data=df_clean)\n",
        "plt.xlabel('',fontsize=13)\n",
        "plt.ylabel('')\n",
        "plt.legend(title='Registrou BO')\n",
        "plt.yticks(fontsize=11)\n",
        "plt.title('Os gêneros que registraram BO',fontsize=19);"
      ],
      "execution_count": 12,
      "outputs": [
        {
          "output_type": "display_data",
          "data": {
            "image/png": "[encoded data removed]",
            "text/plain": [
              "<Figure size 792x504 with 1 Axes>"
            ]
          },
          "metadata": {
            "tags": [],
            "needs_background": "light"
          }
        }
      ]
    },
    {
      "cell_type": "markdown",
      "metadata": {
        "id": "KfZ7BCP1p7ts",
        "colab_type": "text"
      },
      "source": [
        "##O QUE FOI ROUBADO?"
      ]
    },
    {
      "cell_type": "markdown",
      "metadata": {
        "id": "Kdrs8Sl6mTtG",
        "colab_type": "text"
      },
      "source": [
        "####Estatística descritiva"
      ]
    },
    {
      "cell_type": "code",
      "metadata": {
        "id": "7TWH6HpYCRdm",
        "colab_type": "code",
        "colab": {
          "base_uri": "https://localhost:8080/",
          "height": 163
        },
        "outputId": "c26ab173-1408-442e-e1f5-fe7111220852"
      },
      "source": [
        "df['valor_prejuizo'].describe()"
      ],
      "execution_count": 13,
      "outputs": [
        {
          "output_type": "execute_result",
          "data": {
            "text/plain": [
              "count      12899.000000\n",
              "mean        2745.264592\n",
              "std        11115.126241\n",
              "min            0.000000\n",
              "25%           25.000000\n",
              "50%          700.000000\n",
              "75%         2000.000000\n",
              "max      1000000.000000\n",
              "Name: valor_prejuizo, dtype: float64"
            ]
          },
          "metadata": {
            "tags": []
          },
          "execution_count": 13
        }
      ]
    },
    {
      "cell_type": "code",
      "metadata": {
        "id": "TzK-wV0em0n7",
        "colab_type": "code",
        "colab": {
          "base_uri": "https://localhost:8080/",
          "height": 593
        },
        "outputId": "b3098d59-a6c2-42c9-b914-1786db8a6380"
      },
      "source": [
        "df2 = df.describe(include='O')\n",
        "df2_objetos = df.drop(columns=['bairro','id','created_at','descricao','endereco','id.1','ip_address_origin','latitude','longitude','registrou_bo','sexo','tipo_assalto_id','titulo','uri','user_id','valor_prejuizo','time'])\n",
        "df2_objetos = df2_objetos.describe(include='O')\n",
        "df2_objetos = df2_objetos.T\n",
        "eixoy = df2_objetos.index\n",
        "df2_objetos"
      ],
      "execution_count": 14,
      "outputs": [
        {
          "output_type": "execute_result",
          "data": {
            "text/html": [
              "<div>\n",
              "<style scoped>\n",
              "    .dataframe tbody tr th:only-of-type {\n",
              "        vertical-align: middle;\n",
              "    }\n",
              "\n",
              "    .dataframe tbody tr th {\n",
              "        vertical-align: top;\n",
              "    }\n",
              "\n",
              "    .dataframe thead th {\n",
              "        text-align: right;\n",
              "    }\n",
              "</style>\n",
              "<table border=\"1\" class=\"dataframe\">\n",
              "  <thead>\n",
              "    <tr style=\"text-align: right;\">\n",
              "      <th></th>\n",
              "      <th>count</th>\n",
              "      <th>unique</th>\n",
              "      <th>top</th>\n",
              "      <th>freq</th>\n",
              "    </tr>\n",
              "  </thead>\n",
              "  <tbody>\n",
              "    <tr>\n",
              "      <th>Bicicleta</th>\n",
              "      <td>256</td>\n",
              "      <td>1</td>\n",
              "      <td>True</td>\n",
              "      <td>256</td>\n",
              "    </tr>\n",
              "    <tr>\n",
              "      <th>Bolsa ou Mochila</th>\n",
              "      <td>3631</td>\n",
              "      <td>1</td>\n",
              "      <td>True</td>\n",
              "      <td>3631</td>\n",
              "    </tr>\n",
              "    <tr>\n",
              "      <th>Carteira</th>\n",
              "      <td>4243</td>\n",
              "      <td>1</td>\n",
              "      <td>True</td>\n",
              "      <td>4243</td>\n",
              "    </tr>\n",
              "    <tr>\n",
              "      <th>Cartão de Crédito</th>\n",
              "      <td>2776</td>\n",
              "      <td>1</td>\n",
              "      <td>True</td>\n",
              "      <td>2776</td>\n",
              "    </tr>\n",
              "    <tr>\n",
              "      <th>Celular</th>\n",
              "      <td>8377</td>\n",
              "      <td>1</td>\n",
              "      <td>True</td>\n",
              "      <td>8377</td>\n",
              "    </tr>\n",
              "    <tr>\n",
              "      <th>Computador</th>\n",
              "      <td>112</td>\n",
              "      <td>1</td>\n",
              "      <td>True</td>\n",
              "      <td>112</td>\n",
              "    </tr>\n",
              "    <tr>\n",
              "      <th>DVD</th>\n",
              "      <td>94</td>\n",
              "      <td>1</td>\n",
              "      <td>True</td>\n",
              "      <td>94</td>\n",
              "    </tr>\n",
              "    <tr>\n",
              "      <th>Dinheiro</th>\n",
              "      <td>1730</td>\n",
              "      <td>1</td>\n",
              "      <td>True</td>\n",
              "      <td>1730</td>\n",
              "    </tr>\n",
              "    <tr>\n",
              "      <th>Documentos</th>\n",
              "      <td>3660</td>\n",
              "      <td>1</td>\n",
              "      <td>True</td>\n",
              "      <td>3660</td>\n",
              "    </tr>\n",
              "    <tr>\n",
              "      <th>Equipamento de Som</th>\n",
              "      <td>239</td>\n",
              "      <td>1</td>\n",
              "      <td>True</td>\n",
              "      <td>239</td>\n",
              "    </tr>\n",
              "    <tr>\n",
              "      <th>Estepe</th>\n",
              "      <td>324</td>\n",
              "      <td>1</td>\n",
              "      <td>True</td>\n",
              "      <td>324</td>\n",
              "    </tr>\n",
              "    <tr>\n",
              "      <th>MP4 ou Ipod</th>\n",
              "      <td>552</td>\n",
              "      <td>1</td>\n",
              "      <td>True</td>\n",
              "      <td>552</td>\n",
              "    </tr>\n",
              "    <tr>\n",
              "      <th>Móveis</th>\n",
              "      <td>45</td>\n",
              "      <td>1</td>\n",
              "      <td>True</td>\n",
              "      <td>45</td>\n",
              "    </tr>\n",
              "    <tr>\n",
              "      <th>Notebook</th>\n",
              "      <td>764</td>\n",
              "      <td>1</td>\n",
              "      <td>True</td>\n",
              "      <td>764</td>\n",
              "    </tr>\n",
              "    <tr>\n",
              "      <th>Outros</th>\n",
              "      <td>5243</td>\n",
              "      <td>1</td>\n",
              "      <td>True</td>\n",
              "      <td>5243</td>\n",
              "    </tr>\n",
              "    <tr>\n",
              "      <th>Relógio</th>\n",
              "      <td>1350</td>\n",
              "      <td>1</td>\n",
              "      <td>True</td>\n",
              "      <td>1350</td>\n",
              "    </tr>\n",
              "    <tr>\n",
              "      <th>Som</th>\n",
              "      <td>106</td>\n",
              "      <td>1</td>\n",
              "      <td>True</td>\n",
              "      <td>106</td>\n",
              "    </tr>\n",
              "    <tr>\n",
              "      <th>Tablet</th>\n",
              "      <td>443</td>\n",
              "      <td>1</td>\n",
              "      <td>True</td>\n",
              "      <td>443</td>\n",
              "    </tr>\n",
              "    <tr>\n",
              "      <th>Tv</th>\n",
              "      <td>178</td>\n",
              "      <td>1</td>\n",
              "      <td>True</td>\n",
              "      <td>178</td>\n",
              "    </tr>\n",
              "  </tbody>\n",
              "</table>\n",
              "</div>"
            ],
            "text/plain": [
              "                   count unique   top  freq\n",
              "Bicicleta            256      1  True   256\n",
              "Bolsa ou Mochila    3631      1  True  3631\n",
              "Carteira            4243      1  True  4243\n",
              "Cartão de Crédito   2776      1  True  2776\n",
              "Celular             8377      1  True  8377\n",
              "Computador           112      1  True   112\n",
              "DVD                   94      1  True    94\n",
              "Dinheiro            1730      1  True  1730\n",
              "Documentos          3660      1  True  3660\n",
              "Equipamento de Som   239      1  True   239\n",
              "Estepe               324      1  True   324\n",
              "MP4 ou Ipod          552      1  True   552\n",
              "Móveis                45      1  True    45\n",
              "Notebook             764      1  True   764\n",
              "Outros              5243      1  True  5243\n",
              "Relógio             1350      1  True  1350\n",
              "Som                  106      1  True   106\n",
              "Tablet               443      1  True   443\n",
              "Tv                   178      1  True   178"
            ]
          },
          "metadata": {
            "tags": []
          },
          "execution_count": 14
        }
      ]
    },
    {
      "cell_type": "code",
      "metadata": {
        "id": "uRN23sQVzkRe",
        "colab_type": "code",
        "colab": {
          "base_uri": "https://localhost:8080/",
          "height": 342
        },
        "outputId": "a1f9380a-5731-469d-b3c9-3ffeefae1fe6"
      },
      "source": [
        "obj_porc = df2_objetos['count'] / df2_objetos['count'].sum()*100\n",
        "obj_porc"
      ],
      "execution_count": 15,
      "outputs": [
        {
          "output_type": "execute_result",
          "data": {
            "text/plain": [
              "Bicicleta             0.750227\n",
              "Bolsa ou Mochila       10.6409\n",
              "Carteira               12.4344\n",
              "Cartão de Crédito      8.13528\n",
              "Celular                24.5494\n",
              "Computador            0.328224\n",
              "DVD                   0.275474\n",
              "Dinheiro               5.06989\n",
              "Documentos             10.7259\n",
              "Equipamento de Som    0.700407\n",
              "Estepe                0.949506\n",
              "MP4 ou Ipod            1.61768\n",
              "Móveis                0.131876\n",
              "Notebook               2.23896\n",
              "Outros                  15.365\n",
              "Relógio                3.95628\n",
              "Som                   0.310641\n",
              "Tablet                 1.29824\n",
              "Tv                    0.521642\n",
              "Name: count, dtype: object"
            ]
          },
          "metadata": {
            "tags": []
          },
          "execution_count": 15
        }
      ]
    },
    {
      "cell_type": "code",
      "metadata": {
        "id": "AnfA2uG6snuG",
        "colab_type": "code",
        "colab": {
          "base_uri": "https://localhost:8080/",
          "height": 33
        },
        "outputId": "abb8c7d9-9276-4d1a-a089-5a83b077f8c3"
      },
      "source": [
        "lista2 = []\n",
        "lista2.append(df[(df['valor_prejuizo']== 0 ) & (df['sexo'] == 'MASCULINO')].shape[0])\n",
        "for i in lista2:\n",
        "  print(f'{i} homens tiveram R$0,00 reais de prejuizo')"
      ],
      "execution_count": 16,
      "outputs": [
        {
          "output_type": "stream",
          "text": [
            "1285 homens tiveram R$0,00 reais de prejuizo\n"
          ],
          "name": "stdout"
        }
      ]
    },
    {
      "cell_type": "code",
      "metadata": {
        "id": "LQcllLaUsrCR",
        "colab_type": "code",
        "colab": {
          "base_uri": "https://localhost:8080/",
          "height": 33
        },
        "outputId": "1d57d10b-8000-4cd2-ae73-c5cbeec06430"
      },
      "source": [
        "lista2 = []\n",
        "lista2.append(df[(df['valor_prejuizo']== 0 ) & (df['sexo'] == 'FEMININO')].shape[0])\n",
        "for i in lista2:\n",
        "  print(f'{i} mulheres tiveram R$0,00 reais de prejuizo')"
      ],
      "execution_count": 17,
      "outputs": [
        {
          "output_type": "stream",
          "text": [
            "922 mulheres tiveram R$0,00 reais de prejuizo\n"
          ],
          "name": "stdout"
        }
      ]
    },
    {
      "cell_type": "markdown",
      "metadata": {
        "id": "T1PS8xdRC-qU",
        "colab_type": "text"
      },
      "source": [
        "Podemos observar que:\n",
        "\n",
        "*   A plataforma registrou **12899** casos de assalto nesse período de tempo\n",
        "\n",
        "*   O maior prejuízo foi de **R$ 1 MILHÃO**\n",
        "\n",
        "*   O valor **R$ 0,00** mostra que nem todos os crimes houveram prejuízos financeiros diretos\n",
        "\n",
        "*   Foram registrados **1577** bairros diferentes\n",
        "\n",
        "\n",
        "*   O item mais roubado foi o **celular** (**8377**)\n",
        "\n",
        "*   O título mais comum para registro de crime foi \"*Fui assaltado voltando do trabalho*\", o que diz muito sobre a situação da segurança pública na cidade."
      ]
    },
    {
      "cell_type": "markdown",
      "metadata": {
        "id": "iC1-TxanoYYE",
        "colab_type": "text"
      },
      "source": [
        "####Visualização"
      ]
    },
    {
      "cell_type": "code",
      "metadata": {
        "id": "JcM-1H9wobwK",
        "colab_type": "code",
        "colab": {
          "base_uri": "https://localhost:8080/",
          "height": 327
        },
        "outputId": "8dd9d1c5-8182-4d40-ab37-696a6f7ea994"
      },
      "source": [
        "paleta1 = sns.color_palette(\"Blues\",16)\n",
        "fig = plt.figure(figsize=(15,5))\n",
        "plt.yticks(fontsize=13)\n",
        "plt.xticks(fontsize=13)\n",
        "plt.xlabel('',fontsize=0)\n",
        "sns.barplot(x = 'freq', y = df2_objetos.index, order = ['Móveis','DVD','Som','Computador','Tv','Bicicleta','Estepe','Tablet','MP4 ou Ipod','Relógio','Dinheiro','Cartão de Crédito','Bolsa ou Mochila','Carteira','Outros','Celular'], palette=paleta1,data = df2_objetos);"
      ],
      "execution_count": 18,
      "outputs": [
        {
          "output_type": "display_data",
          "data": {
            "image/png": "[encoded data removed]",
            "text/plain": [
              "<Figure size 1080x360 with 1 Axes>"
            ]
          },
          "metadata": {
            "tags": [],
            "needs_background": "light"
          }
        }
      ]
    },
    {
      "cell_type": "code",
      "metadata": {
        "id": "1o-Bu7QUwNsd",
        "colab_type": "code",
        "colab": {
          "base_uri": "https://localhost:8080/",
          "height": 336
        },
        "outputId": "eea114ee-b6d9-49e1-9f34-f98e006c26c9"
      },
      "source": [
        "fig = plt.figure(figsize=(10,5))\n",
        "sns.boxplot(x='sexo',y='valor_prejuizo',showfliers=False,hue='registrou_bo',data=df)\n",
        "plt.ylim(0,10000)\n",
        "plt.title('Valor do prejuízo para diferentes vítimas')\n",
        "plt.legend(title='Registrou BO?')\n",
        "plt.ylabel('Valor do prejuízo',fontsize=15)\n",
        "plt.xlabel('');"
      ],
      "execution_count": 19,
      "outputs": [
        {
          "output_type": "display_data",
          "data": {
            "image/png": "[encoded data removed]",
            "text/plain": [
              "<Figure size 720x360 with 1 Axes>"
            ]
          },
          "metadata": {
            "tags": [],
            "needs_background": "light"
          }
        }
      ]
    },
    {
      "cell_type": "code",
      "metadata": {
        "id": "Bb8RFwym8VGl",
        "colab_type": "code",
        "colab": {
          "base_uri": "https://localhost:8080/",
          "height": 342
        },
        "outputId": "9f39a44b-7200-483c-8245-8d2d86c1a16e"
      },
      "source": [
        "fig = plt.figure(figsize=(10,5))\n",
        "sns.violinplot(x='sexo',y='valor_prejuizo',data=df)\n",
        "plt.ylim(0,20000)\n",
        "plt.title('Concentração de prejuízo por sexo',fontsize=21)\n",
        "plt.ylabel('Valor do prejuízo',fontsize=13)\n",
        "plt.xlabel('');"
      ],
      "execution_count": 20,
      "outputs": [
        {
          "output_type": "display_data",
          "data": {
            "image/png": "[encoded data removed]",
            "text/plain": [
              "<Figure size 720x360 with 1 Axes>"
            ]
          },
          "metadata": {
            "tags": [],
            "needs_background": "light"
          }
        }
      ]
    },
    {
      "cell_type": "markdown",
      "metadata": {
        "id": "AwJyxU6_G8h1",
        "colab_type": "text"
      },
      "source": [
        "No grpafico acima podemos ver que o prejuizo do gênero feminino é mais concentrado na faixa 0 ~ 2500, enquanto que o do gênero masculino é mais \"espalhado\" (uniforme) ao longo dos valores de prejuízo."
      ]
    },
    {
      "cell_type": "code",
      "metadata": {
        "id": "24Pn7QeK6JDL",
        "colab_type": "code",
        "colab": {
          "base_uri": "https://localhost:8080/",
          "height": 607
        },
        "outputId": "d5c2054b-e246-495a-ad49-c23027410dc0"
      },
      "source": [
        "import matplotlib.pyplot as plt\n",
        "from wordcloud import WordCloud, STOPWORDS\n",
        "comment_words = ' '\n",
        "stopwords = ['estava','para','largo','minha','uma','batata','teria','dica','cima','eu','que','meu','em','fica','um','o','os','as','a','ele','ela','da','do','nas','não','nos'] + list(STOPWORDS)\n",
        "\n",
        "for valor in df.descricao: \n",
        "\n",
        "   valor = str(valor) \n",
        "\n",
        "   tokens = valor.split() \n",
        "\n",
        "for i in range(len(tokens)): \n",
        "    tokens[i] = tokens[i].lower() \n",
        "\n",
        "for words in tokens: \n",
        "    comment_words = comment_words + words + ' '\n",
        "\n",
        "\n",
        "wordcloud = WordCloud(width = 800, height = 800, \n",
        "            background_color ='white', \n",
        "            stopwords = stopwords, \n",
        "            min_font_size = 10).generate(comment_words) \n",
        "\n",
        "plt.figure(figsize = (8, 10), facecolor = None) \n",
        "plt.imshow(wordcloud) \n",
        "plt.axis(\"off\") \n",
        "plt.tight_layout(pad = 0) \n",
        "\n",
        "plt.show() "
      ],
      "execution_count": 33,
      "outputs": [
        {
          "output_type": "display_data",
          "data": {
            "image/png": "[encoded data removed]",
            "text/plain": [
              "<Figure size 576x720 with 1 Axes>"
            ]
          },
          "metadata": {
            "tags": [],
            "needs_background": "light"
          }
        }
      ]
    },
    {
      "cell_type": "markdown",
      "metadata": {
        "id": "aU2CANoNm9LO",
        "colab_type": "text"
      },
      "source": [
        "Como podemos observar, palavras como \"mochila\", \"homem\", \"mp3\", \"furto\" são muito comuns, podendo traçar um perfil de descrição sobre o assaltante. Isso é importante para que as forças do Estado possam agir de forma menos irracional.\n",
        "O que essas plataformas e aplicativos deveriam fornecer, é um sistema de descrição que informe da melhor maneira possível, e os usuários deixando claro o que ocorreu."
      ]
    },
    {
      "cell_type": "markdown",
      "metadata": {
        "id": "pFJ97eY-0LL4",
        "colab_type": "text"
      },
      "source": [
        "##ONDE FOI ROUBADO?\n",
        "\n",
        "---\n",
        "A localização é essencial ao analisar um aspecto social, pois a base da sociedade é estar imersa num território, o que nos torna intrinsicamente ligado ao local em que estamos. Logo abaixo do título, deixei um mapa que representa as ocorrências obtidas pela plataforma.\n"
      ]
    },
    {
      "cell_type": "markdown",
      "metadata": {
        "id": "sAJKd4Xd0Sms",
        "colab_type": "text"
      },
      "source": [
        "###Estatística descritiva"
      ]
    },
    {
      "cell_type": "code",
      "metadata": {
        "id": "r7tH24F-MPLR",
        "colab_type": "code",
        "colab": {
          "base_uri": "https://localhost:8080/",
          "height": 33
        },
        "outputId": "275e835d-f622-408d-b9fa-57e016e52a65"
      },
      "source": [
        "bairro_porc = df['bairro'].value_counts().max() / df['bairro'].value_counts().sum()*100\n",
        "bairro_porc"
      ],
      "execution_count": 22,
      "outputs": [
        {
          "output_type": "execute_result",
          "data": {
            "text/plain": [
              "5.627009646302251"
            ]
          },
          "metadata": {
            "tags": []
          },
          "execution_count": 22
        }
      ]
    },
    {
      "cell_type": "markdown",
      "metadata": {
        "id": "Y_1VXPZjYwYQ",
        "colab_type": "text"
      },
      "source": [
        "O bairro que mais registrou ocorrências: São Paulo (**630**)\n",
        "```\n",
        "df['bairro'].value_counts().max()\n",
        "```\n",
        "O bairro que menos registrou ocorrências:  Vila Picinin (**01**)\n",
        "```\n",
        "df['bairro'].value_counts().min()\n",
        "```\n",
        "\n",
        "O fato de existir baixas ocorrências registradas não refletem **necessariamente** baixo índice de criminalidade, mas pode representar falta de acesso à internet e meios de comunicação.\n",
        "E existem outros bairros que registraram menos ocorrências, mas a ordem alfabética fez com que Vila Picinin ficasse por último."
      ]
    },
    {
      "cell_type": "markdown",
      "metadata": {
        "id": "hS19hSju0Ycj",
        "colab_type": "text"
      },
      "source": [
        "###Visualização"
      ]
    },
    {
      "cell_type": "code",
      "metadata": {
        "id": "7TxqDByGzDXm",
        "colab_type": "code",
        "colab": {
          "base_uri": "https://localhost:8080/",
          "height": 613
        },
        "outputId": "4ba8972a-3e35-48ba-c620-6ef485e9b7f1"
      },
      "source": [
        "# coletando e ordenando os valores para cada bairro\n",
        "paleta2 = sns.color_palette(\"Blues_r\",37)\n",
        "bairros = df_clean.bairro.value_counts().sort_values(ascending=False).iloc[0:30]\n",
        "fig = plt.figure(figsize=(15,10))\n",
        "sns.barplot(bairros.values, bairros.index,palette=paleta2,data=df);\n",
        "\n",
        "plt.ylabel('')\n",
        "plt.xlabel('')\n",
        "plt.yticks(fontsize=13)\n",
        "plt.title('Número de Crimes por Bairro',fontsize=19);"
      ],
      "execution_count": 23,
      "outputs": [
        {
          "output_type": "display_data",
          "data": {
            "image/png": "[encoded data removed]",
            "text/plain": [
              "<Figure size 1080x720 with 1 Axes>"
            ]
          },
          "metadata": {
            "tags": [],
            "needs_background": "light"
          }
        }
      ]
    },
    {
      "cell_type": "markdown",
      "metadata": {
        "id": "I3kllWqM0N_k",
        "colab_type": "text"
      },
      "source": [
        "##QUANDO FOI ROUBADO?\n",
        "\n",
        "---\n",
        "A última análise é em relação ao tempo. Veremos os **anos, meses e dias do mês** em que a plataforma mais registrou mais casos de assalto.\n"
      ]
    },
    {
      "cell_type": "code",
      "metadata": {
        "id": "W4YjnRPo12sM",
        "colab_type": "code",
        "colab": {
          "base_uri": "https://localhost:8080/",
          "height": 180
        },
        "outputId": "133954bc-ffee-4c93-f102-b798545c1ba9"
      },
      "source": [
        "df_clean.index.year.value_counts()"
      ],
      "execution_count": 24,
      "outputs": [
        {
          "output_type": "execute_result",
          "data": {
            "text/plain": [
              "2014    4079\n",
              "2013    2179\n",
              "2016    1857\n",
              "2017    1569\n",
              "2015     929\n",
              "2012     368\n",
              "2018     196\n",
              "2010      11\n",
              "2011       8\n",
              "Name: time, dtype: int64"
            ]
          },
          "metadata": {
            "tags": []
          },
          "execution_count": 24
        }
      ]
    },
    {
      "cell_type": "code",
      "metadata": {
        "id": "HENxYvNH2Pr_",
        "colab_type": "code",
        "colab": {
          "base_uri": "https://localhost:8080/",
          "height": 228
        },
        "outputId": "1fd69bd7-ed74-4ae5-a055-9fe86073d4fb"
      },
      "source": [
        "df_clean.index.month.value_counts()"
      ],
      "execution_count": 25,
      "outputs": [
        {
          "output_type": "execute_result",
          "data": {
            "text/plain": [
              "8     1290\n",
              "10    1151\n",
              "6     1107\n",
              "7     1034\n",
              "11    1020\n",
              "9     1013\n",
              "1      839\n",
              "5      817\n",
              "3      798\n",
              "2      787\n",
              "4      702\n",
              "12     638\n",
              "Name: time, dtype: int64"
            ]
          },
          "metadata": {
            "tags": []
          },
          "execution_count": 25
        }
      ]
    },
    {
      "cell_type": "code",
      "metadata": {
        "id": "JfUk4YzD2QCt",
        "colab_type": "code",
        "colab": {
          "base_uri": "https://localhost:8080/",
          "height": 537
        },
        "outputId": "a949f2b8-61dd-44f1-fc36-2578f795d30a"
      },
      "source": [
        "df_clean.index.day.value_counts()"
      ],
      "execution_count": 26,
      "outputs": [
        {
          "output_type": "execute_result",
          "data": {
            "text/plain": [
              "11    463\n",
              "15    446\n",
              "10    443\n",
              "20    442\n",
              "14    412\n",
              "8     405\n",
              "1     403\n",
              "16    395\n",
              "13    384\n",
              "7     380\n",
              "12    378\n",
              "25    372\n",
              "4     362\n",
              "18    361\n",
              "6     361\n",
              "22    358\n",
              "5     354\n",
              "17    353\n",
              "9     352\n",
              "23    351\n",
              "3     348\n",
              "26    346\n",
              "19    342\n",
              "24    336\n",
              "2     328\n",
              "21    326\n",
              "27    319\n",
              "28    313\n",
              "30    303\n",
              "29    274\n",
              "31    186\n",
              "Name: time, dtype: int64"
            ]
          },
          "metadata": {
            "tags": []
          },
          "execution_count": 26
        }
      ]
    },
    {
      "cell_type": "code",
      "metadata": {
        "id": "P0JO3RLQ2kX2",
        "colab_type": "code",
        "colab": {
          "base_uri": "https://localhost:8080/",
          "height": 147
        },
        "outputId": "e8d72627-1b63-43e9-ed93-4f1439368bd5"
      },
      "source": [
        "df_clean.index.weekday.value_counts()"
      ],
      "execution_count": 27,
      "outputs": [
        {
          "output_type": "execute_result",
          "data": {
            "text/plain": [
              "4    1819\n",
              "2    1797\n",
              "3    1776\n",
              "1    1658\n",
              "5    1491\n",
              "0    1420\n",
              "6    1235\n",
              "Name: time, dtype: int64"
            ]
          },
          "metadata": {
            "tags": []
          },
          "execution_count": 27
        }
      ]
    },
    {
      "cell_type": "code",
      "metadata": {
        "id": "W_ssqJdkzNMA",
        "colab_type": "code",
        "colab": {
          "base_uri": "https://localhost:8080/",
          "height": 507
        },
        "outputId": "59ee3517-bdef-418c-d175-0e18d2eda44d"
      },
      "source": [
        "# criando a visualização\n",
        "fig = plt.figure(figsize=(10,8))\n",
        "df_clean.groupby([df_clean.index.year]).size().plot(kind='bar')\n",
        "# definindo o título da visualização\n",
        "plt.title('Número de Crimes por Ano',fontsize=19)\n",
        "plt.xlabel('')\n",
        "plt.yticks(fontsize=13)\n",
        "plt.xticks(fontsize=13,rotation=360);"
      ],
      "execution_count": 28,
      "outputs": [
        {
          "output_type": "display_data",
          "data": {
            "image/png": "[encoded data removed]",
            "text/plain": [
              "<Figure size 720x576 with 1 Axes>"
            ]
          },
          "metadata": {
            "tags": [],
            "needs_background": "light"
          }
        }
      ]
    },
    {
      "cell_type": "code",
      "metadata": {
        "id": "D13nPFA6ftTF",
        "colab_type": "code",
        "colab": {
          "base_uri": "https://localhost:8080/",
          "height": 343
        },
        "outputId": "1a075d88-d493-4f8f-e793-babaa5a70aa6"
      },
      "source": [
        "fig = plt.figure(figsize=(17,5))\n",
        "df_clean.groupby([df_clean.index.month]).size().plot(kind='bar')\n",
        "plt.title('Meses do ano',fontsize=19)\n",
        "plt.xticks(fontsize=13,rotation=360)\n",
        "plt.xlabel('')\n",
        "plt.yticks(fontsize=13);"
      ],
      "execution_count": 29,
      "outputs": [
        {
          "output_type": "display_data",
          "data": {
            "image/png": "[encoded data removed]",
            "text/plain": [
              "<Figure size 1224x360 with 1 Axes>"
            ]
          },
          "metadata": {
            "tags": [],
            "needs_background": "light"
          }
        }
      ]
    },
    {
      "cell_type": "code",
      "metadata": {
        "id": "pbiAG0EtcExc",
        "colab_type": "code",
        "colab": {
          "base_uri": "https://localhost:8080/",
          "height": 344
        },
        "outputId": "debbe561-df2a-4881-cac0-ee46c8909341"
      },
      "source": [
        "fig = plt.figure(figsize=(15,5))\n",
        "df_clean.groupby([df_clean.index.day]).size().plot.bar()\n",
        "plt.title('Dias do mês',fontsize=19)\n",
        "plt.xticks(fontsize=13,rotation=360)\n",
        "plt.xlabel('')\n",
        "plt.yticks(fontsize=13);"
      ],
      "execution_count": 30,
      "outputs": [
        {
          "output_type": "display_data",
          "data": {
            "image/png": "[encoded data removed]",
            "text/plain": [
              "<Figure size 1080x360 with 1 Axes>"
            ]
          },
          "metadata": {
            "tags": [],
            "needs_background": "light"
          }
        }
      ]
    },
    {
      "cell_type": "code",
      "metadata": {
        "id": "qPjIdMQM2rAX",
        "colab_type": "code",
        "colab": {
          "base_uri": "https://localhost:8080/",
          "height": 344
        },
        "outputId": "6c5b5811-3717-424b-a121-248ac09b671b"
      },
      "source": [
        "fig = plt.figure(figsize=(10,5))\n",
        "df_clean.groupby([df_clean.index.weekday]).size().plot.bar()\n",
        "plt.title('Dias da semana',fontsize=19)\n",
        "plt.xticks(fontsize=13,rotation=360)\n",
        "plt.xlabel('')\n",
        "plt.yticks(fontsize=13);"
      ],
      "execution_count": 31,
      "outputs": [
        {
          "output_type": "display_data",
          "data": {
            "image/png": "[encoded data removed]",
            "text/plain": [
              "<Figure size 720x360 with 1 Axes>"
            ]
          },
          "metadata": {
            "tags": [],
            "needs_background": "light"
          }
        }
      ]
    },
    {
      "cell_type": "markdown",
      "metadata": {
        "id": "K5VI70nzneeg",
        "colab_type": "text"
      },
      "source": [
        "#CONCLUSÕES"
      ]
    },
    {
      "cell_type": "markdown",
      "metadata": {
        "id": "hevGQGmkavvg",
        "colab_type": "text"
      },
      "source": [
        "##Conclusão dos dados\n",
        "\n",
        "Temos, então, algumas conclusões a partir dos dados disponibilizados pela plataforma:\n",
        "\n",
        "*   Os **homens** são as maiores vítimas dos crimes (**61,25%**);\n",
        "\n",
        "*   O item mais roubado foi o **celular** (**24,54%**);\n",
        "\n",
        "*   O maior prejuízo foi de **R$1.000.000** (UM MILHÃO);\n",
        "\n",
        "*   A maioria das pessoas registraram BO (**59,31%**);\n",
        "\n",
        "*   O bairro com mais ocorrência de crimes foi **São Paulo** (**5,62%**);\n",
        "\n",
        "*   O **ano** em que mais foram registradas ocorrências: **2014**;\n",
        "\n",
        "*   O **mês** em que mais foram registradas ocorrências: **Agosto**\n",
        "\n",
        "*   O **dia do mês** em que mais foram registradas ocorrências: **10 a 15**\n",
        "\n",
        "*   O **dia da semana** em que mais foram registradas ocorrências: **Quinta-feira**\n"
      ]
    },
    {
      "cell_type": "markdown",
      "metadata": {
        "id": "s99n2_FCdhGe",
        "colab_type": "text"
      },
      "source": [
        "##Conclusão final\n",
        "\n",
        "---\n",
        "\n",
        "Sabemos que dados são importantes para a tomada de decisões, o que nos falta é ter fácil acesso a esses dados. E é isso que a plataforma aqui analisada se propõe a fazer.\n",
        "\n",
        "Vemos hoje muitas pessoas com tecnologias nas mãos, com tudo à um clique de distância, tendo o celular como extensão do próprio corpo. Não há nem a necessidade de consultar, pois as notificações baseadas na localização (GPS) do aparelho podem fazer todo o trabalho.\n",
        "\n",
        "Em tempos de conexão, o governo deve se atualizar constantemente e informar suas instituições e seus cidadãos. O governo precisa estar apto às mudanças sociais provocadas pelas inovações tecnológicas, e se aproveitar dessas inovações para facilitar o convívio em sociedade. O tema aqui tratado foi sobre violência urbana, mas as inovações estão chegando em diversas áreas (**comunicação, emprego, saneamento, cultura, lazer, mobilidade urbana, etc**.) e isso deve ser aproveitado com o objetivo último de tornar as políticas públicas mais eficientes e levá-las até os locais de mais difícil acesso.\n",
        "\n",
        "\"As tecnologias sociais são produtos, técnicas ou metodologias reaplicáveis, desenvolvidas em interação com a comunidade, e que representem efetivas soluções de transformação social. São experiências inovadoras que contribuem para resolver grandes problemas sociais.\" [[3]](http://www.mobilizadores.org.br/entrevistas/tecnologias-sociais-possibilitam-modelos-alternativos-de-desenvolvimento/)\n",
        "\n",
        "A sociedade pode levar vantagem disso se houverem parcerias que se dediquem à informar os cidadãos sobre o que está acontecendo em seu território e no seio da própria sociedade. Informar sobre a violência é algo crucial para quem deseja reduzir esses números, e ser informado é importante para quem deseja evitar ser assaltado. Então é de interesse do cidadão ser informado, e deve ser obrigação do governo e de suas instituições, informar.\n",
        "\n",
        "“*Inovação não é feita apenas usando tecnologia. A tecnologia pode ser um meio, mas ver e transformar um jeito de fazer algo, mudar a forma como encaramos desafios, tudo isso pode ser visto e feito de forma inovadora.*” - Gustavo Maia"
      ]
    },
    {
      "cell_type": "markdown",
      "metadata": {
        "id": "0HKMZSz_hJer",
        "colab_type": "text"
      },
      "source": [
        "#REFERÊNCIAS\n",
        "\n",
        "---\n",
        "[1] http://www.ssp.sp.gov.br/transparenciassp/Default.aspx\n",
        "\n",
        "[2] https://www.techtudo.com.br/tudo-sobre/onde-fui-roubado.html\n",
        "\n",
        "[3] http://www.mobilizadores.org.br/entrevistas/tecnologias-sociais-possibilitam-modelos-alternativos-de-desenvolvimento/\n",
        "\n",
        "## Leituras complementares:\n",
        "\n",
        "https://www.colab.re/conteudo/tecnologia-um-meio-para-governos-inovarem\n",
        "\n",
        "https://www.digix.com.br/tecnologia-no-setor-publico-quais-sao-os-desafios-e-necessidades/\n",
        "\n",
        "https://www.e-gestaopublica.com.br/inovacao-e-governo/"
      ]
    }
  ]
}